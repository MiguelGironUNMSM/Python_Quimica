{
  "nbformat": 4,
  "nbformat_minor": 0,
  "metadata": {
    "colab": {
      "provenance": [],
      "include_colab_link": true
    },
    "kernelspec": {
      "name": "python3",
      "display_name": "Python 3"
    },
    "language_info": {
      "name": "python"
    }
  },
  "cells": [
    {
      "cell_type": "markdown",
      "metadata": {
        "id": "view-in-github",
        "colab_type": "text"
      },
      "source": [
        "<a href=\"https://colab.research.google.com/github/MiguelGironUNMSM/Python_Quimica/blob/main/E_Qu%C3%ADmico_Miguel_Alejandro_Giron_Altamirano.ipynb\" target=\"_parent\"><img src=\"https://colab.research.google.com/assets/colab-badge.svg\" alt=\"Open In Colab\"/></a>"
      ]
    },
    {
      "cell_type": "markdown",
      "source": [
        "# ***Primera propuesta (no logramos imprimir la expresion con corchetes)***"
      ],
      "metadata": {
        "id": "VpSpF-G5kFUi"
      }
    },
    {
      "cell_type": "code",
      "source": [
        "import sympy\n",
        "print('La ecuación química balanceada tendrá la forma: aA + bB -> cC')\n",
        "a = sympy.symbols('a')\n",
        "A = sympy.symbols('A')\n",
        "b = sympy.symbols('b')\n",
        "B = sympy.symbols('B')\n",
        "c = sympy.symbols('c')\n",
        "C = sympy.symbols('C')\n",
        "\n",
        "Kc =  C**c / (A**a * B**b)\n",
        "\n",
        "valor_a = input('Ingresa el valor de a: ')\n",
        "valor_A = input('Ingresa el valor de A: ')\n",
        "valor_b = input('Ingresa el valor de b: ')\n",
        "valor_B = input('Ingresa el valor de B: ')\n",
        "valor_c = input('Ingresa el valor de c: ')\n",
        "valor_C = input('Ingresa el valor de C: ')\n",
        "\n",
        "sustituciones = {a: valor_a, A: valor_A, b: valor_b, B: valor_B, c: valor_c, C: valor_C}\n",
        "expresion_evaluada = Kc.subs(sustituciones)\n",
        "print(\"La expresión del Kc es: \")\n",
        "\n",
        "sympy.expand(expresion_evaluada)"
      ],
      "metadata": {
        "id": "q3YnfjHWkR20",
        "colab": {
          "base_uri": "https://localhost:8080/",
          "height": 197
        },
        "outputId": "5d9102fe-4068-4609-c2d3-c065ccb5fc07"
      },
      "execution_count": 1,
      "outputs": [
        {
          "output_type": "stream",
          "name": "stdout",
          "text": [
            "La ecuación química balanceada tendrá la forma: aA + bB -> cC\n",
            "Ingresa el valor de a: 2\n",
            "Ingresa el valor de A: H2\n",
            "Ingresa el valor de b: 1\n",
            "Ingresa el valor de B: O2\n",
            "Ingresa el valor de c: 2\n",
            "Ingresa el valor de C: H2O\n",
            "La expresión del Kc es: \n"
          ]
        },
        {
          "output_type": "execute_result",
          "data": {
            "text/plain": [
              "H2O**2/(H2**2*O2)"
            ],
            "text/latex": "$\\displaystyle \\frac{H2O^{2}}{H_{2}^{2} O_{2}}$"
          },
          "metadata": {},
          "execution_count": 1
        }
      ]
    },
    {
      "cell_type": "markdown",
      "source": [
        "![image.png](data:image/png;base64,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)"
      ],
      "metadata": {
        "id": "kKLQUjRRoOYK"
      }
    },
    {
      "cell_type": "markdown",
      "source": [
        "# ***Segunda propuesta (ampliamos el codigo para que acepte más reactivos y/o productos)***"
      ],
      "metadata": {
        "id": "NylmHziQmDf8"
      }
    },
    {
      "cell_type": "code",
      "source": [
        "from sympy import symbols, Eq, solve\n",
        "\n",
        "def obtener_expresion_Kc(ecuacion_balanceada):\n",
        "\n",
        "    sustancias = set(ecuacion_balanceada.replace('->', '+').replace('+', ' ').split())\n",
        "    concentraciones = {sustancia: symbols(sustancia) for sustancia in sustancias}\n",
        "    kc_expresion_numerador = 1\n",
        "    kc_expresion_denominador = 1\n",
        "    reactivos, productos = ecuacion_balanceada.split(' -> ')\n",
        "    reactivos = reactivos.split(' + ')\n",
        "    productos = productos.split(' + ')\n",
        "\n",
        "    for sustancia in reactivos:\n",
        "        kc_expresion_denominador *= concentraciones[sustancia]\n",
        "\n",
        "    for sustancia in productos:\n",
        "        kc_expresion_numerador *= concentraciones[sustancia]\n",
        "\n",
        "    ecuacion_Kc = Eq(kc_expresion_numerador / kc_expresion_denominador, symbols('Kc'))\n",
        "    expresion_Kc = solve(ecuacion_Kc, symbols('Kc'))[0]\n",
        "    return expresion_Kc\n",
        "\n",
        "reaccion_quimica = input(\"Ingresa la ecuación balanceada de la reacción química: \")\n",
        "expresion_Kc = obtener_expresion_Kc(reaccion_quimica)\n",
        "\n",
        "print(f\"\\nLa expresión de Kc para la reacción {reaccion_quimica} es: Kc = {expresion_Kc}\")"
      ],
      "metadata": {
        "id": "RKCZujpnmD5c",
        "colab": {
          "base_uri": "https://localhost:8080/"
        },
        "outputId": "63fb52b4-cd0e-4a41-c5f5-6e8da62e00f4"
      },
      "execution_count": 2,
      "outputs": [
        {
          "output_type": "stream",
          "name": "stdout",
          "text": [
            "Ingresa la ecuación balanceada de la reacción química: 2H2 + O2 -> 2H2O\n",
            "\n",
            "La expresión de Kc para la reacción 2H2 + O2 -> 2H2O es: Kc = 2H2O/(2H2*O2)\n"
          ]
        }
      ]
    },
    {
      "cell_type": "markdown",
      "source": [
        "![image.png](data:image/png;base64,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)"
      ],
      "metadata": {
        "id": "srObbcC_oW9T"
      }
    },
    {
      "cell_type": "markdown",
      "source": [
        "# ***Tercera propuesta (Lo hicimos implementando LaTex para poder visualizarlo con corchetes)***"
      ],
      "metadata": {
        "id": "D7jxlc1bkTcp"
      }
    },
    {
      "cell_type": "code",
      "source": [
        "import sympy as sp\n",
        "from IPython.display import display, Math\n",
        "\n",
        "ecuacion_dict = {}\n",
        "num_reactivos = int(input(\"Ingrese el número de reactivos: \"))\n",
        "num_productos = int(input(\"Ingrese el número de productos: \"))\n",
        "\n",
        "for i in range(num_reactivos):\n",
        "    coef = input(\"Ingrese el coeficiente para el reactivo %d: \" % (i + 1))\n",
        "    sustancia = input(\"Ingrese la sustancia para el reactivo %d: \" % (i + 1))\n",
        "    ecuacion_dict[sustancia] = coef\n",
        "\n",
        "for i in range(num_productos):\n",
        "    coef = input(\"Ingrese el coeficiente para el producto %d: \" % (i + 1))\n",
        "    sustancia = input(\"Ingrese la sustancia para el producto %d: \" % (i + 1))\n",
        "    ecuacion_dict[sustancia] = coef\n",
        "\n",
        "ecuacion_Kc = []\n",
        "\n",
        "for sustancia, coef in ecuacion_dict.items():\n",
        "    if \"->\" in sustancia:\n",
        "        continue\n",
        "    elif \"+\" in sustancia:\n",
        "        sustancia = sustancia.replace(\"+\", \"\")\n",
        "\n",
        "    sustancia = sp.sympify(sustancia)\n",
        "    coef = sp.sympify(coef)\n",
        "\n",
        "    ecuacion_Kc.append(\"[%s]^%s\" % (sustancia, coef))\n",
        "\n",
        "reactantes = ecuacion_Kc[num_reactivos:]\n",
        "productos = ecuacion_Kc[:num_reactivos]\n",
        "latex_Kc = \"Kc = \\\\frac{%s}{%s}\" % (\" \\\\cdot \".join(reactantes), \" \\\\cdot \".join(productos))\n",
        "display(Math(latex_Kc))"
      ],
      "metadata": {
        "id": "IjLjQTBskTwF",
        "colab": {
          "base_uri": "https://localhost:8080/",
          "height": 197
        },
        "outputId": "c3114e8c-ffdf-4dba-be74-2ce217198f58"
      },
      "execution_count": 3,
      "outputs": [
        {
          "name": "stdout",
          "output_type": "stream",
          "text": [
            "Ingrese el número de reactivos: 2\n",
            "Ingrese el número de productos: 1\n",
            "Ingrese el coeficiente para el reactivo 1: 2\n",
            "Ingrese la sustancia para el reactivo 1: H2\n",
            "Ingrese el coeficiente para el reactivo 2: 1\n",
            "Ingrese la sustancia para el reactivo 2: O2\n",
            "Ingrese el coeficiente para el producto 1: 2\n",
            "Ingrese la sustancia para el producto 1: H2O\n"
          ]
        },
        {
          "output_type": "display_data",
          "data": {
            "text/plain": [
              "<IPython.core.display.Math object>"
            ],
            "text/latex": "$\\displaystyle Kc = \\frac{[H2O]^2}{[H2]^2 \\cdot [O2]^1}$"
          },
          "metadata": {}
        }
      ]
    },
    {
      "cell_type": "markdown",
      "source": [
        "![image.png](data:image/png;base64,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)"
      ],
      "metadata": {
        "id": "G18xflVgoanU"
      }
    }
  ]
}
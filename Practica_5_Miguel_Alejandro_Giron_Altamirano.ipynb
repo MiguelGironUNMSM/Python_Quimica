{
  "nbformat": 4,
  "nbformat_minor": 0,
  "metadata": {
    "colab": {
      "provenance": [],
      "authorship_tag": "ABX9TyNK9/DtuGVaRLUOvV0N8bCV",
      "include_colab_link": true
    },
    "kernelspec": {
      "name": "python3",
      "display_name": "Python 3"
    },
    "language_info": {
      "name": "python"
    }
  },
  "cells": [
    {
      "cell_type": "markdown",
      "metadata": {
        "id": "view-in-github",
        "colab_type": "text"
      },
      "source": [
        "<a href=\"https://colab.research.google.com/github/MiguelGironUNMSM/Python_Quimica/blob/main/Practica_5_Miguel_Alejandro_Giron_Altamirano.ipynb\" target=\"_parent\"><img src=\"https://colab.research.google.com/assets/colab-badge.svg\" alt=\"Open In Colab\"/></a>"
      ]
    },
    {
      "cell_type": "markdown",
      "source": [
        "<h1> Practica Estado Gaseoso</h1>"
      ],
      "metadata": {
        "id": "VjjpnZvxMt1D"
      }
    },
    {
      "cell_type": "markdown",
      "source": [
        "<b>1.1. Calcula el volumen ocupado por 2 moles de gas a una presión de 3 atmósferas y una\n",
        "temperatura de 300 K.</b>"
      ],
      "metadata": {
        "id": "qs-RWqnnM9-7"
      }
    },
    {
      "cell_type": "code",
      "execution_count": 22,
      "metadata": {
        "colab": {
          "base_uri": "https://localhost:8080/"
        },
        "id": "tCxpK8XTMbr_",
        "outputId": "8ef75cda-35d2-4599-9643-024f37e23968"
      },
      "outputs": [
        {
          "output_type": "stream",
          "name": "stdout",
          "text": [
            "El volumen ocupado por 2 moles de gas a 3 atmósferas y 300 K es 16.42 L.\n"
          ]
        }
      ],
      "source": [
        "def fvolumen(n, P, T):\n",
        "    # Constante de los gases ideales en L·atm/(mol·K)\n",
        "    R = 0.0821\n",
        "    # Calculamos el volumen utilizando la ecuación de los gases ideales\n",
        "    V = (n * R * T) / P\n",
        "    return round(V,2)\n",
        "\n",
        "moles = 2\n",
        "presion = 3\n",
        "temperatura = 300\n",
        "\n",
        "volumen_resultante = fvolumen(moles, presion, temperatura)\n",
        "print(f\"El volumen ocupado por {moles} moles de gas a {presion} atmósferas y {temperatura} K es {volumen_resultante} L.\")\n"
      ]
    },
    {
      "cell_type": "markdown",
      "source": [
        "<b>1.4. El nitrógeno líquido se encuentra a -196°C. ¿Cuál es esta temperatura en Kelvin?</b>"
      ],
      "metadata": {
        "id": "ojDXQUlZPDKF"
      }
    },
    {
      "cell_type": "code",
      "source": [
        "def celsius_a_kelvin(t_celsius):\n",
        "    t_kelvin = t_celsius + 273.15\n",
        "    return round(t_kelvin, 2)\n",
        "\n",
        "t_celsius = -196\n",
        "resultado_kelvin = celsius_a_kelvin(t_celsius)\n",
        "print(f\"La temperatura {t_celsius}° en Celsius equivale a {resultado_kelvin}° grados en Kelvin.\")"
      ],
      "metadata": {
        "colab": {
          "base_uri": "https://localhost:8080/"
        },
        "id": "E7BYtiLrPENM",
        "outputId": "34bdc846-9972-4daf-98b5-90987f2248d8"
      },
      "execution_count": 4,
      "outputs": [
        {
          "output_type": "stream",
          "name": "stdout",
          "text": [
            "La temperatura -196° en Celsius equivale a 77.15° grados en Kelvin.\n"
          ]
        }
      ]
    },
    {
      "cell_type": "markdown",
      "source": [
        "<b>2.3. Si se duplica la temperatura de un gas ideal, ¿cómo afecta esto a su presión, suponiendo que el volumen y la cantidad de gas permanezcan constantes?</b>"
      ],
      "metadata": {
        "id": "cOMFUHrTQP41"
      }
    },
    {
      "cell_type": "code",
      "source": [
        "def fpresion(n, V, T):\n",
        "    # Constante de los gases ideales en L·atm/(mol·K)\n",
        "    R = 0.0821\n",
        "    # Calculamos la presión utilizando la ecuación de los gases ideales\n",
        "    P = (n * R * T) / V\n",
        "    return  round(P, 2)\n",
        "\n",
        "moles = 1\n",
        "volumen = 1\n",
        "temperatura1 = 100\n",
        "temperatura2 = 200\n",
        "presion_resultante1 = fpresion(moles, volumen, temperatura1)\n",
        "presion_resultante2 = fpresion(moles, volumen, temperatura2)\n",
        "print(f\"La presion a la tempertura incial es {presion_resultante1 } y al duplicar la temperatura la presión asciende a {presion_resultante2}.\")\n",
        "print(\"Entonces podemos observar como al duplicar la temperatura la presión se incrementa de forma proporcional.\")"
      ],
      "metadata": {
        "colab": {
          "base_uri": "https://localhost:8080/"
        },
        "id": "4_1sUv6xQ1jm",
        "outputId": "d709ef7d-0d1c-4676-d8dc-6407cde522f1"
      },
      "execution_count": 7,
      "outputs": [
        {
          "output_type": "stream",
          "name": "stdout",
          "text": [
            "La presion a la tempertura incial es 8.21 y al duplicar la temperatura la presión asciende a 16.42.\n",
            "Entonces podemos observar como al duplicar la temperatura la presión se incrementa de forma proporcional.\n"
          ]
        }
      ]
    },
    {
      "cell_type": "markdown",
      "source": [
        "<b>2.5. ¿Por qué los gases no tienen una forma o un volumen definidos?</b>"
      ],
      "metadata": {
        "id": "MjDb-onaR9U9"
      }
    },
    {
      "cell_type": "markdown",
      "source": [
        "Los gases no tienen una forma o un volumen definidos debido a la naturaleza de las partículas que los componen y las condiciones en las que se encuentran. Los gases están formados por moléculas que están en constante movimiento y que tienen una alta energía cinética."
      ],
      "metadata": {
        "id": "8DRIOBtZSU5W"
      }
    },
    {
      "cell_type": "markdown",
      "source": [
        "<b>3.1. Calcula la presión ejercida por 0.5 moles de gas en un recipiente de 10 litros a 25°C.</b>"
      ],
      "metadata": {
        "id": "ji8HOEseTK11"
      }
    },
    {
      "cell_type": "code",
      "source": [
        "moles = 0.5\n",
        "volumen = 10\n",
        "temperatura = celsius_a_kelvin(25)\n",
        "\n",
        "print(f\"La presión ejercida es {fpresion(moles, volumen, temperatura)} \")"
      ],
      "metadata": {
        "colab": {
          "base_uri": "https://localhost:8080/"
        },
        "id": "sXQH3kY4TtSM",
        "outputId": "64c5b6ea-95d6-4621-97a8-50ffb81ab1fb"
      },
      "execution_count": 11,
      "outputs": [
        {
          "output_type": "stream",
          "name": "stdout",
          "text": [
            "La presión ejercida es 1.22 \n"
          ]
        }
      ]
    },
    {
      "cell_type": "markdown",
      "source": [
        "<b>3.2. Si tienes un gas a una presión de 1 atmósfera y lo comprimes a la mitad de su volumen, ¿cuál\n",
        "será la nueva presión? Supón que la temperatura y el número de moles es constante.</b>"
      ],
      "metadata": {
        "id": "ORQkQ-xcThRY"
      }
    },
    {
      "cell_type": "code",
      "source": [
        "vol_1 = 1\n",
        "vol_2 = 0.5\n",
        "pre_1 = 1\n",
        "\n",
        "pre_2 = vol_1*pre_1/vol_2\n",
        "print(f\"La nueva presión es {pre_2} atmósferas.\")"
      ],
      "metadata": {
        "colab": {
          "base_uri": "https://localhost:8080/"
        },
        "id": "cZJerc9WVSX9",
        "outputId": "fe328755-b7ab-4d13-96ff-587121e4397b"
      },
      "execution_count": 12,
      "outputs": [
        {
          "output_type": "stream",
          "name": "stdout",
          "text": [
            "La nueva presión es 2.0 atmósferas.\n"
          ]
        }
      ]
    },
    {
      "cell_type": "markdown",
      "source": [
        "<b>4.3. ¿Por qué la temperatura se relaciona con la velocidad promedio de las partículas en un gas\n",
        "ideal?</b>"
      ],
      "metadata": {
        "id": "QJQsYkVMW8Z-"
      }
    },
    {
      "cell_type": "markdown",
      "source": [
        "Debido a que el incremento de la temperatura se traduce en un aumento de la energía cinética de las particulas lo cual se ve reflejado en su velocidad, la cual tambien crece."
      ],
      "metadata": {
        "id": "tpOOJMA7XBg1"
      }
    },
    {
      "cell_type": "markdown",
      "source": [
        "<b>4.4. ¿Cómo cambia la presión de un gas ideal si se aumenta la velocidad promedio de sus\n",
        "partículas manteniendo constantes otros factores?</b>"
      ],
      "metadata": {
        "id": "SMebiI4sXr0m"
      }
    },
    {
      "cell_type": "markdown",
      "source": [
        "Aumentaria la presión, ya que al tener un mayor velocidad promedio el numero de colisiones respecto al contenedor aumentaría y esto es lo que medimos con la presión."
      ],
      "metadata": {
        "id": "EdwsJO46Xx6d"
      }
    },
    {
      "cell_type": "markdown",
      "source": [
        "<b>5.1. Utiliza la ecuación de los gases ideales para calcular la presión de 2 moles de gas en un\n",
        "recipiente de 5 litros a 25°C.</b>"
      ],
      "metadata": {
        "id": "UgDv3CLtYbsm"
      }
    },
    {
      "cell_type": "code",
      "source": [
        "moles = 2\n",
        "volumen = 5\n",
        "temperatura = celsius_a_kelvin(25)\n",
        "print(f\"La presión ejercida es {fpresion(moles, volumen, temperatura)} \")"
      ],
      "metadata": {
        "colab": {
          "base_uri": "https://localhost:8080/"
        },
        "id": "oxlnaIkxXqz2",
        "outputId": "b41c0235-1e13-4966-8764-fd8b94ffb76c"
      },
      "execution_count": 13,
      "outputs": [
        {
          "output_type": "stream",
          "name": "stdout",
          "text": [
            "La presión ejercida es 9.79 \n"
          ]
        }
      ]
    },
    {
      "cell_type": "markdown",
      "source": [
        "<b>5.2. Si tienes un gas que ocupa 10 litros a 3 atmósferas de presión y 273 K de temperatura,\n",
        "¿cuántos moles de gas tienes?</b>"
      ],
      "metadata": {
        "id": "YYYI6L0Oa7h_"
      }
    },
    {
      "cell_type": "code",
      "source": [
        "def fmol(P, V, T):\n",
        "    # Constante de los gases ideales en L·atm/(mol·K)\n",
        "    R = 0.0821\n",
        "    n = (P * V) / (T*R)\n",
        "    return  round(n,2)\n",
        "\n",
        "n_mol=fmol(3,10,273)\n",
        "\n",
        "print(f\"El número de moles es {n_mol} .\")\n"
      ],
      "metadata": {
        "colab": {
          "base_uri": "https://localhost:8080/"
        },
        "id": "8dqat3o8VQ66",
        "outputId": "4ef17677-a178-4553-8ab6-c9a0bc2f840a"
      },
      "execution_count": 16,
      "outputs": [
        {
          "output_type": "stream",
          "name": "stdout",
          "text": [
            "El número de moles es 1.34 .\n"
          ]
        }
      ]
    },
    {
      "cell_type": "markdown",
      "source": [
        "<b>6.2. Un globo se llena con 3 moles de gas a 25 °C. Si la temperatura se incrementa a 75 °C, ¿cuál será el nuevo volumen del globo?</b>"
      ],
      "metadata": {
        "id": "8usaLv1IcNPX"
      }
    },
    {
      "cell_type": "code",
      "source": [
        "\n",
        "moles = 3\n",
        "presion = 3\n",
        "temperatura = celsius_a_kelvin(25)\n",
        "fvolumen(moles, presion, temperatura)\n",
        "\n",
        "print(f\"el volumen a 25° es {fvolumen(moles, presion, temperatura)}\")\n",
        "\n",
        "temperatura =  celsius_a_kelvin(75)\n",
        "\n",
        "print(f\"el volumen a 75° es {fvolumen(moles, presion, temperatura)}\")"
      ],
      "metadata": {
        "colab": {
          "base_uri": "https://localhost:8080/"
        },
        "id": "h598W_7echEg",
        "outputId": "de7e117a-97e7-40f4-8b2d-0a2363a4e55f"
      },
      "execution_count": 41,
      "outputs": [
        {
          "output_type": "stream",
          "name": "stdout",
          "text": [
            "el volumen a 25° es 24.48\n",
            "el volumen a 75° es 28.58\n"
          ]
        }
      ]
    },
    {
      "cell_type": "markdown",
      "source": [
        "<b>6.3. Si un recipiente de 4 litros contiene 3 moles de un gas a 400 K, ¿cuál será la presión si el volumen se reduce a 2 litros a temperatura constante?</b>"
      ],
      "metadata": {
        "id": "oUiqFkIneV_f"
      }
    },
    {
      "cell_type": "code",
      "source": [
        "moles = 3\n",
        "volumen = 4\n",
        "temperatura = 400\n",
        "print(f\"La presión incial sería {fpresion(moles, volumen, temperatura)} \")\n",
        "\n",
        "volumen = 2\n",
        "print(f\"La presión al reducir el volumen sería {fpresion(moles, volumen, temperatura)} \")"
      ],
      "metadata": {
        "colab": {
          "base_uri": "https://localhost:8080/"
        },
        "id": "xCYlL4XcebM2",
        "outputId": "27c3225f-7e52-4823-820c-3fc5409b632c"
      },
      "execution_count": 26,
      "outputs": [
        {
          "output_type": "stream",
          "name": "stdout",
          "text": [
            "La presión incial sería 24.63 \n",
            "La presión al reducir el volumen sería 49.26 \n"
          ]
        }
      ]
    },
    {
      "cell_type": "markdown",
      "source": [
        "<b>7.1. Un globo se llena con 2 moles de gas a 25 °C. Si el volumen inicial es de 5 litros, ¿cuál será el\n",
        "volumen a 50 °C, manteniendo constante la presión?</b>"
      ],
      "metadata": {
        "id": "Af4JisRpe5qv"
      }
    },
    {
      "cell_type": "code",
      "source": [
        "moles = 2\n",
        "volumen = 5\n",
        "temperatura = celsius_a_kelvin(25)\n",
        "print(f\"La presión incial sería {fpresion(moles, volumen, temperatura)} atm. \")\n",
        "\n",
        "presion = fpresion(moles, volumen, temperatura)\n",
        "temperatura = celsius_a_kelvin(50)\n",
        "\n",
        "print(f\"El volumen a 50° es {fvolumen(moles, presion, temperatura)} litros.\")"
      ],
      "metadata": {
        "id": "onqPsko9e6if",
        "colab": {
          "base_uri": "https://localhost:8080/"
        },
        "outputId": "8d47cbf3-f096-4c2c-bacd-db11d9730047"
      },
      "execution_count": 28,
      "outputs": [
        {
          "output_type": "stream",
          "name": "stdout",
          "text": [
            "La presión incial sería 9.79 atm. \n",
            "el volumen a 50° es 5.42 litros.\n"
          ]
        }
      ]
    },
    {
      "cell_type": "markdown",
      "source": [
        "<b>7.2. Si un gas ocupa un volumen de 2 litros a 0 °C, ¿cuál será el volumen a 100 °C si la presión se\n",
        "mantiene constante?</b>"
      ],
      "metadata": {
        "id": "3sa5OOv1e9-W"
      }
    },
    {
      "cell_type": "code",
      "source": [
        "#Declaramos un cantidad de moles arbitrariamente\n",
        "moles = 1\n",
        "volumen = 2\n",
        "temperatura = celsius_a_kelvin(0)\n",
        "print(f\"La presión  sería {fpresion(moles, volumen, temperatura)} atm. \")\n",
        "presion = fpresion(moles, volumen, temperatura)\n",
        "temperatura = celsius_a_kelvin(100)\n",
        "print(f\"El volumen a 100° es {fvolumen(moles, presion, temperatura)} litros.\")"
      ],
      "metadata": {
        "id": "nrEk34Yie1zI",
        "colab": {
          "base_uri": "https://localhost:8080/"
        },
        "outputId": "3fbddc28-afdd-42d2-85b9-3a369878fade"
      },
      "execution_count": 29,
      "outputs": [
        {
          "output_type": "stream",
          "name": "stdout",
          "text": [
            "La presión  sería 11.21 atm. \n",
            "El volumen a 100° es 2.73 litros.\n"
          ]
        }
      ]
    },
    {
      "cell_type": "markdown",
      "source": [
        "<b>8.1. Un gas ocupa 2 litros a una presión de 3 atmósferas. Si se comprime a 1 litro, ¿cuál será la nueva presión a temperatura constante?</b>"
      ],
      "metadata": {
        "id": "4rOUeR3GFPLF"
      }
    },
    {
      "cell_type": "code",
      "source": [
        "vol_1 = 2\n",
        "vol_2 = 1\n",
        "pre_1 = 3\n",
        "\n",
        "pre_2 = vol_1*pre_1/vol_2\n",
        "print(f\"La nueva presión es {pre_2} atmósferas.\")"
      ],
      "metadata": {
        "colab": {
          "base_uri": "https://localhost:8080/"
        },
        "id": "Y34f096RFPmY",
        "outputId": "00d4fa96-600f-4f3d-a0b1-b7721712f152"
      },
      "execution_count": 30,
      "outputs": [
        {
          "output_type": "stream",
          "name": "stdout",
          "text": [
            "La nueva presión es 6.0 atmósferas.\n"
          ]
        }
      ]
    },
    {
      "cell_type": "markdown",
      "source": [
        "<b>8.2. Si un gas a 2 atmósferas de presión ocupa un volumen de 10 litros, ¿cuál sería el nuevo volumen si la presión se duplica?</b>"
      ],
      "metadata": {
        "id": "TjHhi-m-FP70"
      }
    },
    {
      "cell_type": "code",
      "source": [
        "vol_1 = 10\n",
        "\n",
        "pre_1 = 2\n",
        "pre_2 = 4\n",
        "\n",
        "vol_2 = (vol_1 * pre_1)/ pre_2\n",
        "print(f\"La nueva presión es {vol_2} atmósferas.\")"
      ],
      "metadata": {
        "colab": {
          "base_uri": "https://localhost:8080/"
        },
        "id": "jYGnQkOKFQCx",
        "outputId": "43abc7eb-7857-42f3-cb26-2ed970b54eb8"
      },
      "execution_count": 32,
      "outputs": [
        {
          "output_type": "stream",
          "name": "stdout",
          "text": [
            "La nueva presión es 5.0 atmósferas.\n"
          ]
        }
      ]
    },
    {
      "cell_type": "markdown",
      "source": [
        "<b>9.1. Un recipiente contiene oxígeno (O2) y nitrógeno (N2) a una presión total de 3 atmósferas. Si la presión parcial de O2 es de 1 atmósfera, ¿cuál es la presión parcial de N2?</b>"
      ],
      "metadata": {
        "id": "0YEthc04GwgP"
      }
    },
    {
      "cell_type": "code",
      "source": [
        "pre_oxi = 1\n",
        "pre_total = 3\n",
        "\n",
        "pre_nit = pre_total-pre_oxi\n",
        "print(f\"La presión parcial  es {pre_nit} atmósferas.\")"
      ],
      "metadata": {
        "colab": {
          "base_uri": "https://localhost:8080/"
        },
        "id": "lQHa2ciQGwvW",
        "outputId": "c0efe5a3-6743-4320-a55e-3caf33513746"
      },
      "execution_count": 33,
      "outputs": [
        {
          "output_type": "stream",
          "name": "stdout",
          "text": [
            "La presión parcial  es 2 atmósferas.\n"
          ]
        }
      ]
    },
    {
      "cell_type": "markdown",
      "source": [
        "<b>9.2. En un recipiente, la presión parcial de hidrógeno (H2) es de 0.2 atmósferas, la del oxígeno (O2) es de 0.5 atmósferas y la del nitrógeno (N2) es de 0.3 atmósferas. ¿Cuál es la presión total en el recipiente?</b>"
      ],
      "metadata": {
        "id": "u5-2Rq10HTRD"
      }
    },
    {
      "cell_type": "code",
      "source": [
        "pre_hid = 0.2\n",
        "pre_oxi = 0.5\n",
        "pre_nit = 0.3\n",
        "\n",
        "pre_total = pre_hid + pre_oxi + pre_nit\n",
        "print(f\"La presión total es {pre_total} atmósferas.\")"
      ],
      "metadata": {
        "colab": {
          "base_uri": "https://localhost:8080/"
        },
        "id": "NLWsfAyGHTcT",
        "outputId": "4d219214-0fff-4e47-b05c-66a8ab4d548a"
      },
      "execution_count": 34,
      "outputs": [
        {
          "output_type": "stream",
          "name": "stdout",
          "text": [
            "La presión total es 1.0 atmósferas.\n"
          ]
        }
      ]
    },
    {
      "cell_type": "markdown",
      "source": [
        "<b>10.1. Si 2 moles de un gas real ocupan 3 litros a 300 K y 2 atmósferas de presión, ¿cuál es el factor de compresibilidad (Z) del gas?</b>"
      ],
      "metadata": {
        "id": "WpX21FONIYYW"
      }
    },
    {
      "cell_type": "code",
      "source": [
        "def fcompresibilidad(presion, volumen, moles, temperatura):\n",
        "    R = 0.0821\n",
        "    Z = (presion * volumen) / (moles * R * temperatura)\n",
        "    return round(Z,2)\n",
        "\n",
        "\n",
        "presion = 2\n",
        "volumen = 3\n",
        "moles = 2\n",
        "temperatura = 300\n",
        "\n",
        "factor_compresibilidad = fcompresibilidad(presion, volumen, moles, temperatura)\n",
        "\n",
        "print(f\"El factor de compresibilidad (Z) del gas es: {factor_compresibilidad}\")\n"
      ],
      "metadata": {
        "colab": {
          "base_uri": "https://localhost:8080/"
        },
        "id": "wBQtAsb9IcYT",
        "outputId": "02384fc6-257b-42e2-b996-2522ff044822"
      },
      "execution_count": 37,
      "outputs": [
        {
          "output_type": "stream",
          "name": "stdout",
          "text": [
            "El factor de compresibilidad (Z) del gas es: 0.12\n"
          ]
        }
      ]
    },
    {
      "cell_type": "markdown",
      "source": [
        "<b>10.2. Un gas real se encuentra en un recipiente de 5 litros a 350 K y 4 atmósferas de presión. Calcular el factor de compresibilidad (Z) del gas en estas condiciones."
      ],
      "metadata": {
        "id": "z5F73b7vIt1C"
      }
    },
    {
      "cell_type": "code",
      "source": [
        "moles=fmol(4,5,350)\n",
        "print(f\"El número de moles es {moles} .\")\n",
        "presion = 4\n",
        "volumen = 5\n",
        "temperatura = 350\n",
        "\n",
        "factor_compresibilidad = fcompresibilidad(presion, volumen, moles, temperatura)\n",
        "print(f\"El factor de compresibilidad (Z) del gas es: {factor_compresibilidad}\")"
      ],
      "metadata": {
        "colab": {
          "base_uri": "https://localhost:8080/"
        },
        "id": "BsYCo_pgIziv",
        "outputId": "d817f282-0764-4abd-a6c3-55bb13e4b071"
      },
      "execution_count": 40,
      "outputs": [
        {
          "output_type": "stream",
          "name": "stdout",
          "text": [
            "El número de moles es 0.7 .\n",
            "El factor de compresibilidad (Z) del gas es: 0.99\n"
          ]
        }
      ]
    }
  ]
}
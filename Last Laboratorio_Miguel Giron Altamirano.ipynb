{
  "nbformat": 4,
  "nbformat_minor": 0,
  "metadata": {
    "colab": {
      "provenance": [],
      "include_colab_link": true
    },
    "kernelspec": {
      "name": "python3",
      "display_name": "Python 3"
    },
    "language_info": {
      "name": "python"
    }
  },
  "cells": [
    {
      "cell_type": "markdown",
      "metadata": {
        "id": "view-in-github",
        "colab_type": "text"
      },
      "source": [
        "<a href=\"https://colab.research.google.com/github/MiguelGironUNMSM/Python_Quimica/blob/main/Last%20Laboratorio_Miguel%20Giron%20Altamirano.ipynb\" target=\"_parent\"><img src=\"https://colab.research.google.com/assets/colab-badge.svg\" alt=\"Open In Colab\"/></a>"
      ]
    },
    {
      "cell_type": "markdown",
      "source": [
        "<h1>PROYECTO MANHHATAN<h1>\n",
        "<hr>\n",
        "<p>Miguel Alejandro Giron Altamirano<p><br>\n",
        "<p>Andre Alexander Cuenca Echevarria<p><br>\n",
        "<p>Alejandro Manuel Padilla Arellano<p><br>\n",
        "<p>Brandon Fernandez Cavero<p><br>\n",
        "<p>Anderson Tataje Rodriguez<p><br>\n",
        "<p>Christian Arancivia Salas<p><br>"
      ],
      "metadata": {
        "id": "Pep_MFTaoNE1"
      }
    },
    {
      "cell_type": "code",
      "source": [],
      "metadata": {
        "id": "xZnTUwPmoJih"
      },
      "execution_count": null,
      "outputs": []
    },
    {
      "cell_type": "code",
      "source": [
        "# Instalar numpy\n",
        "!pip install numpy"
      ],
      "metadata": {
        "id": "G-bIFEyYkc6U",
        "colab": {
          "base_uri": "https://localhost:8080/"
        },
        "outputId": "d31e5d47-e6c1-41ce-e524-22d71208a8fe"
      },
      "execution_count": null,
      "outputs": [
        {
          "output_type": "stream",
          "name": "stdout",
          "text": [
            "Requirement already satisfied: numpy in /usr/local/lib/python3.10/dist-packages (1.23.5)\n"
          ]
        }
      ]
    },
    {
      "cell_type": "code",
      "source": [
        "# Instalar matplotlib\n",
        "!pip install matplotlib"
      ],
      "metadata": {
        "id": "tTS3hnWpkoPT",
        "colab": {
          "base_uri": "https://localhost:8080/"
        },
        "outputId": "39097286-a3c1-4163-9e67-1ea613d44b07"
      },
      "execution_count": null,
      "outputs": [
        {
          "output_type": "stream",
          "name": "stdout",
          "text": [
            "Requirement already satisfied: matplotlib in /usr/local/lib/python3.10/dist-packages (3.7.1)\n",
            "Requirement already satisfied: contourpy>=1.0.1 in /usr/local/lib/python3.10/dist-packages (from matplotlib) (1.2.0)\n",
            "Requirement already satisfied: cycler>=0.10 in /usr/local/lib/python3.10/dist-packages (from matplotlib) (0.12.1)\n",
            "Requirement already satisfied: fonttools>=4.22.0 in /usr/local/lib/python3.10/dist-packages (from matplotlib) (4.44.3)\n",
            "Requirement already satisfied: kiwisolver>=1.0.1 in /usr/local/lib/python3.10/dist-packages (from matplotlib) (1.4.5)\n",
            "Requirement already satisfied: numpy>=1.20 in /usr/local/lib/python3.10/dist-packages (from matplotlib) (1.23.5)\n",
            "Requirement already satisfied: packaging>=20.0 in /usr/local/lib/python3.10/dist-packages (from matplotlib) (23.2)\n",
            "Requirement already satisfied: pillow>=6.2.0 in /usr/local/lib/python3.10/dist-packages (from matplotlib) (9.4.0)\n",
            "Requirement already satisfied: pyparsing>=2.3.1 in /usr/local/lib/python3.10/dist-packages (from matplotlib) (3.1.1)\n",
            "Requirement already satisfied: python-dateutil>=2.7 in /usr/local/lib/python3.10/dist-packages (from matplotlib) (2.8.2)\n",
            "Requirement already satisfied: six>=1.5 in /usr/local/lib/python3.10/dist-packages (from python-dateutil>=2.7->matplotlib) (1.16.0)\n"
          ]
        }
      ]
    },
    {
      "cell_type": "code",
      "source": [
        "transferencia = {\n",
        "    'H': 1, 'He': 0, 'Li': 1, 'Be': 2, 'B': 3, 'C': 4, 'N': 3, 'O': 2, 'F': 1, 'Ne': 0,\n",
        "    'Na': 1, 'Mg': 2, 'Al': 3, 'Si': 4, 'P': 3, 'S': 2, 'Cl': 1, 'K': 1, 'Ar': 0,\n",
        "    'Ca': 2, 'Sc': 3, 'Ti': 4, 'V': 5, 'Cr': 3, 'Mn': 2, 'Fe': 3, 'Ni': 2, 'Co': 3,\n",
        "    'Cu': 2, 'Zn': 2, 'Ga': 3, 'Ge': 4, 'As': 3, 'Se': 2, 'Br': 1, 'Kr': 0,\n",
        "    'Rb': 1, 'Sr': 2, 'Y': 3, 'Zr': 4, 'Nb': 5, 'Mo': 6, 'Tc': 7, 'Ru': 3, 'Rh': 4,\n",
        "    'Pd': 2, 'Ag': 1, 'Cd': 2, 'In': 3, 'Sn': 4, 'Sb': 3, 'Te': 2, 'I': 1, 'Xe': 0,\n",
        "    'Cs': 1, 'Ba': 2, 'La': 3, 'Ce': 4, 'Pr': 4, 'Nd': 3, 'Pm': 3, 'Sm': 3, 'Eu': 2,\n",
        "    'Gd': 3, 'Tb': 4, 'Dy': 3, 'Ho': 3, 'Er': 3, 'Tm': 3, 'Yb': 3, 'Lu': 3, 'Hf': 4,\n",
        "    'Ta': 5, 'W': 6, 'Re': 7, 'Os': 4, 'Ir': 4, 'Pt': 2, 'Au': 3, 'Hg': 2, 'Tl': 3,\n",
        "    'Pb': 4, 'Bi': 3, 'Th': 4, 'Pa': 5, 'U': 6, 'Np': 7, 'Pu': 4, 'Am': 4, 'Cm': 3,\n",
        "    'Bk': 3, 'Cf': 3, 'Es': 3, 'Fm': 2, 'Md': 3, 'No': 2, 'Lr': 3, 'Rf': 4, 'Db': 5,\n",
        "    'Sg': 6, 'Bh': 7, 'Hs': 8, 'Mt': 4, 'Ds': 4, 'Rg': 4, 'Cn': 4, 'Nh': 5, 'Fl': 6,\n",
        "    'Mc': 7, 'Lv': 8, 'Ts': 4, 'Og': 4\n",
        "}\n"
      ],
      "metadata": {
        "id": "lRXKzGQ1PT9h"
      },
      "execution_count": null,
      "outputs": []
    },
    {
      "cell_type": "code",
      "source": [
        "masas_molares = {\n",
        "    'H': 1.0079, 'He': 4.0026, 'Li': 6.94, 'Be': 9.0122, 'B': 10.81, 'C': 12.011, 'N': 14.007, 'O': 15.999,\n",
        "    'F': 18.998, 'Ne': 20.180, 'Na': 22.99, 'Mg': 24.305, 'Al': 26.982, 'Si': 28.085, 'P': 30.974, 'S': 32.06,\n",
        "    'Cl': 35.453, 'K': 39.098, 'Ar': 39.948, 'Ca': 40.078, 'Sc': 44.956, 'Ti': 47.867, 'V': 50.942, 'Cr': 51.996,\n",
        "    'Mn': 54.938, 'Fe': 55.845, 'Ni': 58.693, 'Co': 58.933, 'Cu': 63.546, 'Zn': 65.38, 'Ga': 69.723, 'Ge': 72.630,\n",
        "    'As': 74.922, 'Se': 78.971, 'Br': 79.904, 'Kr': 83.798, 'Rb': 85.468, 'Sr': 87.62, 'Y': 88.906, 'Zr': 91.224,\n",
        "    'Nb': 92.906, 'Mo': 95.95, 'Tc': 98, 'Ru': 101.07, 'Rh': 102.91, 'Pd': 106.42, 'Ag': 107.87, 'Cd': 112.41,\n",
        "    'In': 114.82, 'Sn': 118.71, 'Sb': 121.76, 'I': 126.90, 'Te': 127.60, 'Xe': 131.29, 'Cs': 132.91, 'Ba': 137.33,\n",
        "    'La': 138.91, 'Ce': 140.12, 'Pr': 140.91, 'Nd': 144.24, 'Pm': 145, 'Sm': 150.36, 'Eu': 151.96, 'Gd': 157.25,\n",
        "    'Tb': 158.93, 'Dy': 162.50, 'Ho': 164.93, 'Er': 167.26, 'Tm': 168.93, 'Yb': 173.04, 'Lu': 174.97, 'Hf': 178.49,\n",
        "    'Ta': 180.95, 'W': 183.84, 'Re': 186.21, 'Os': 190.23, 'Ir': 192.22, 'Pt': 195.08, 'Au': 196.97, 'Hg': 200.59,\n",
        "    'Tl': 204.38, 'Pb': 207.2, 'Bi': 208.98, 'Th': 232.04, 'Pa': 231.04, 'U': 238.03, 'Np': 237, 'Pu': 244, 'Am': 243,\n",
        "    'Cm': 247, 'Bk': 247, 'Cf': 251, 'Es': 252, 'Fm': 257, 'Md': 258, 'No': 259, 'Lr': 262, 'Rf': 267, 'Db': 270,\n",
        "    'Sg': 271, 'Bh': 270, 'Hs': 277, 'Mt': 276, 'Ds': 281, 'Rg': 280, 'Cn': 285, 'Nh': 284, 'Fl': 289, 'Mc': 288,\n",
        "    'Lv': 293, 'Ts': 294, 'Og': 294\n",
        "}\n"
      ],
      "metadata": {
        "id": "M5r9CZFdPC2x"
      },
      "execution_count": null,
      "outputs": []
    },
    {
      "cell_type": "code",
      "source": [
        "\n",
        "F = 96485\n",
        "\n",
        "\n",
        "# Solicitar entrada de tiempo e gramos de corriente\n",
        "\n",
        "t = float(input(\"Ingrese el Tiempo en segundos: \"))\n",
        "g = float(input(\"Ingrese los gramos: \"))\n",
        "\n",
        "\n",
        "# Solicitar el elemento a depositar\n",
        "element = input(\"Ingrese el elemento que desea depositar mediante su símbolo químico: \")\n",
        "\n",
        "# Manejo de excepciones para elementos no definidos\n",
        "try:\n",
        "    masa_molar = masas_molares[element]\n",
        "    n_e_tranferidos = transferencia[element]\n",
        "except KeyError:\n",
        "    print(f\"Error: Elemento {element} no encontrado en las tablas de masas molares o transferencia.\")\n",
        "    exit()\n",
        "\n",
        "# Calcular n_Electrones\n",
        "nm_electrones = g*n_e_tranferidos / masa_molar\n",
        "\n",
        "intensidad = nm_electrones*F/t\n",
        "\n",
        "\n",
        "\n",
        "# Mostrar el resultado\n",
        "print(f\"Se requiere de  {round(intensidad,3)} A para reducir {g}\")\n"
      ],
      "metadata": {
        "id": "Ril7HrMojK9e"
      },
      "execution_count": null,
      "outputs": []
    },
    {
      "cell_type": "code",
      "source": [],
      "metadata": {
        "id": "oFKROLedoJht"
      },
      "execution_count": null,
      "outputs": []
    }
  ]
}
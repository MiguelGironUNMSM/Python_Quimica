{
  "nbformat": 4,
  "nbformat_minor": 0,
  "metadata": {
    "colab": {
      "provenance": [],
      "include_colab_link": true
    },
    "kernelspec": {
      "name": "python3",
      "display_name": "Python 3"
    },
    "language_info": {
      "name": "python"
    },
    "widgets": {
      "application/vnd.jupyter.widget-state+json": {
        "36f20a275c714da18049d3d068365317": {
          "model_module": "faerun-notebook",
          "model_name": "SmilesDrawerModel",
          "model_module_version": "^0.1.5",
          "state": {
            "_dom_classes": [],
            "_model_module": "faerun-notebook",
            "_model_module_version": "^0.1.5",
            "_model_name": "SmilesDrawerModel",
            "_view_count": null,
            "_view_module": "faerun-notebook",
            "_view_module_version": "^0.1.5",
            "_view_name": "SmilesDrawerView",
            "background": "#1e1e1e",
            "border": true,
            "layout": "IPY_MODEL_6b8bf4bfd8da480893c503a171b0b598",
            "options": {
              "scale": 1.25
            },
            "output": "svg",
            "theme": "dark",
            "value": [
              [
                "Rxn",
                "C(C1C(C(C(C(O1)O)O)O)O)O.O=O>>C(=O)=O.O"
              ]
            ]
          }
        },
        "6b8bf4bfd8da480893c503a171b0b598": {
          "model_module": "@jupyter-widgets/base",
          "model_name": "LayoutModel",
          "model_module_version": "1.2.0",
          "state": {
            "_model_module": "@jupyter-widgets/base",
            "_model_module_version": "1.2.0",
            "_model_name": "LayoutModel",
            "_view_count": null,
            "_view_module": "@jupyter-widgets/base",
            "_view_module_version": "1.2.0",
            "_view_name": "LayoutView",
            "align_content": null,
            "align_items": null,
            "align_self": null,
            "border": null,
            "bottom": null,
            "display": null,
            "flex": null,
            "flex_flow": null,
            "grid_area": null,
            "grid_auto_columns": null,
            "grid_auto_flow": null,
            "grid_auto_rows": null,
            "grid_column": null,
            "grid_gap": null,
            "grid_row": null,
            "grid_template_areas": null,
            "grid_template_columns": null,
            "grid_template_rows": null,
            "height": null,
            "justify_content": null,
            "justify_items": null,
            "left": null,
            "margin": null,
            "max_height": null,
            "max_width": null,
            "min_height": null,
            "min_width": null,
            "object_fit": null,
            "object_position": null,
            "order": null,
            "overflow": null,
            "overflow_x": null,
            "overflow_y": null,
            "padding": null,
            "right": null,
            "top": null,
            "visibility": null,
            "width": null
          }
        }
      }
    }
  },
  "cells": [
    {
      "cell_type": "markdown",
      "metadata": {
        "id": "view-in-github",
        "colab_type": "text"
      },
      "source": [
        "<a href=\"https://colab.research.google.com/github/MiguelGironUNMSM/Python_Quimica/blob/main/PC1_Quimica_Miguel_Alejandro_Giron_Altamirano.ipynb\" target=\"_parent\"><img src=\"https://colab.research.google.com/assets/colab-badge.svg\" alt=\"Open In Colab\"/></a>"
      ]
    },
    {
      "cell_type": "markdown",
      "source": [
        "# UNMSM | Química General\n",
        "## PC Nº1 | Materia y Clasificación\n",
        "\n"
      ],
      "metadata": {
        "id": "sDJAjbaQOj4x"
      }
    },
    {
      "cell_type": "markdown",
      "source": [
        "Profesor: Jesus Alvarado Huayhuaz"
      ],
      "metadata": {
        "id": "bfk6PRHI64OO"
      }
    },
    {
      "cell_type": "markdown",
      "source": [
        "Alumno: Miguel Alejandro Giron Altamirano"
      ],
      "metadata": {
        "id": "PeRl14wk6ynp"
      }
    },
    {
      "cell_type": "markdown",
      "source": [
        "Todas las indicaciones para la presentación de la práctica son explicadas en clase y brindadas en el material de enunciado de preguntas en formato PDF."
      ],
      "metadata": {
        "id": "_DsTzWLoP7Fy"
      }
    },
    {
      "cell_type": "markdown",
      "source": [
        "## Pregunta 1: Sobre el ABC de python (4 puntos)"
      ],
      "metadata": {
        "id": "obD7c2igOD6t"
      }
    },
    {
      "cell_type": "markdown",
      "source": [
        "Imprime la versión de python que usas y las palabras reservadas de python para esa versión."
      ],
      "metadata": {
        "id": "Nt1cweTru_ck"
      }
    },
    {
      "cell_type": "code",
      "source": [
        "!python -V\n",
        "help(\"keywords\")"
      ],
      "metadata": {
        "id": "6mJvqMN0LTU8",
        "colab": {
          "base_uri": "https://localhost:8080/"
        },
        "outputId": "836a4ca5-7c4f-471a-d403-e7ead6f6284b"
      },
      "execution_count": null,
      "outputs": [
        {
          "output_type": "stream",
          "name": "stdout",
          "text": [
            "Python 3.10.12\n",
            "\n",
            "Here is a list of the Python keywords.  Enter any keyword to get more help.\n",
            "\n",
            "False               class               from                or\n",
            "None                continue            global              pass\n",
            "True                def                 if                  raise\n",
            "and                 del                 import              return\n",
            "as                  elif                in                  try\n",
            "assert              else                is                  while\n",
            "async               except              lambda              with\n",
            "await               finally             nonlocal            yield\n",
            "break               for                 not                 \n",
            "\n"
          ]
        }
      ]
    },
    {
      "cell_type": "markdown",
      "source": [
        "Crea una matriz de 3x3 e imprime la suma de los elementos en su diagonal (traza)."
      ],
      "metadata": {
        "id": "ZcnKRZeMwpsA"
      }
    },
    {
      "cell_type": "code",
      "source": [
        "matriz = [[9,8,7],\n",
        "          [6,5,4],\n",
        "          [3,2,1]]\n",
        "suma = 0\n",
        "for i in range(3):\n",
        "  suma += matriz[i][i]\n",
        "\n",
        "print(f'La suma es: {suma}')"
      ],
      "metadata": {
        "id": "MxDzGypdLTXh",
        "colab": {
          "base_uri": "https://localhost:8080/"
        },
        "outputId": "25923e30-8ba4-4803-ddf6-81cefbf9d620"
      },
      "execution_count": null,
      "outputs": [
        {
          "output_type": "stream",
          "name": "stdout",
          "text": [
            "La suma es: 15\n"
          ]
        }
      ]
    },
    {
      "cell_type": "markdown",
      "source": [
        "Guarda como variable la masa atómica de los elementos C, H y O, e imprime la masa molecular del etanol."
      ],
      "metadata": {
        "id": "2-bvH7UnznQH"
      }
    },
    {
      "cell_type": "code",
      "source": [
        "m_C = 12.01\n",
        "m_H = 1.01\n",
        "m_O = 16.00\n",
        "print(f'La masa molecular del etanol es: {2*m_C + 6*m_H + m_O}')"
      ],
      "metadata": {
        "id": "MyhNX7JmLTSe",
        "colab": {
          "base_uri": "https://localhost:8080/"
        },
        "outputId": "cc0394c4-f899-491e-d554-52e0bb251fa0"
      },
      "execution_count": null,
      "outputs": [
        {
          "output_type": "stream",
          "name": "stdout",
          "text": [
            "La masa molecular del etanol es: 46.08\n"
          ]
        }
      ]
    },
    {
      "cell_type": "markdown",
      "source": [
        "Busca la temperatura de fusión en Celsius de 5 metales y guárdalos en una lista. Imprime las temperaturas en Kelvin"
      ],
      "metadata": {
        "id": "YGz9YNSs9RdS"
      }
    },
    {
      "cell_type": "code",
      "source": [
        "def convertirKelvin (celsius):\n",
        "  return celsius - 273\n",
        "temperaturas = [659,1260,670,1083,961]\n",
        "\n",
        "for x in temperaturas:\n",
        "  print(f'{x} C° son equivalentes a {convertirKelvin(x)} K° ')"
      ],
      "metadata": {
        "id": "NCOnJ0FwgLLc",
        "colab": {
          "base_uri": "https://localhost:8080/"
        },
        "outputId": "e17a8981-3ed5-4828-b2c6-db56d67b1595"
      },
      "execution_count": null,
      "outputs": [
        {
          "output_type": "stream",
          "name": "stdout",
          "text": [
            "659 C° son equivalentes a 386 K° \n",
            "1260 C° son equivalentes a 987 K° \n",
            "670 C° son equivalentes a 397 K° \n",
            "1083 C° son equivalentes a 810 K° \n",
            "961 C° son equivalentes a 688 K° \n"
          ]
        }
      ]
    },
    {
      "cell_type": "markdown",
      "source": [
        "## Pregunta 2: Operaciones (4 puntos)"
      ],
      "metadata": {
        "id": "epzOadagLfPi"
      }
    },
    {
      "cell_type": "markdown",
      "source": [
        "Escribe un programa que lea repetidamente elementos químicos en español hasta que el usuario introduzca “fin”. Una vez se haya introducido “fin”, muestra por pantalla (o sea imprime) el total de elementos ingresados. Si el usuario introduce cualquier otra cosa que no sea un elemento químico, detecta su fallo usando try y except, muestra un mensaje de error y pasa al siguiente elemento."
      ],
      "metadata": {
        "id": "MbAEOGPsjOWZ"
      }
    },
    {
      "cell_type": "code",
      "source": [
        "#Creamos una lista con todos los elementos\n",
        "elementos_Tabla = [\n",
        "    \"hidrógeno\", \"helio\", \"litio\", \"berilio\", \"boro\", \"carbono\", \"nitrógeno\", \"oxígeno\", \"flúor\", \"neón\",\n",
        "    \"sodio\", \"magnesio\", \"aluminio\", \"silicio\", \"fósforo\", \"azufre\", \"cloro\", \"argón\", \"potasio\", \"calcio\",\n",
        "    \"escandio\", \"titanio\", \"vanadio\", \"cromo\", \"manganeso\", \"hierro\", \"cobalto\", \"níquel\", \"cobre\", \"zinc\",\n",
        "    \"galio\", \"germanio\", \"arsénico\", \"selenio\", \"bromo\", \"kriptón\", \"rubidio\", \"estroncio\", \"itrio\", \"circonio\",\n",
        "    \"niobio\", \"molibdeno\", \"tecnecio\", \"rutenio\", \"rodio\", \"paladio\", \"plata\", \"cadmio\", \"indio\", \"estaño\",\n",
        "    \"antimonio\", \"telurio\", \"yodo\", \"xenón\", \"cesio\", \"bario\", \"lantano\", \"cerio\", \"praseodimio\", \"neodimio\",\n",
        "    \"prometio\", \"samario\", \"europio\", \"gadolinio\", \"terbio\", \"disprosio\", \"holmio\", \"erbio\", \"tulio\", \"iterbio\",\n",
        "    \"lutecio\", \"hafnio\", \"tántalo\", \"wolframio\", \"renio\", \"osmio\", \"iridio\", \"platino\", \"oro\", \"mercurio\",\n",
        "    \"talio\", \"plomo\", \"bismuto\", \"polonio\", \"ástato\", \"radón\", \"francio\", \"radio\", \"actinio\", \"torio\", \"protactinio\",\n",
        "    \"uranio\", \"neptunio\", \"plutonio\", \"americio\", \"curio\", \"berkelio\", \"californio\", \"einstenio\", \"fermio\",\n",
        "    \"mendelevio\", \"nobelio\", \"lawrencio\", \"rutherfordio\", \"dubnio\", \"seaborgio\", \"bohrio\", \"hassio\", \"meitnerio\",\n",
        "    \"darmstadtio\", \"roentgenio\", \"copernicio\", \"nihonio\", \"flerovio\", \"moscovio\", \"livermorio\", \"tenesino\"\n",
        "]\n",
        "#Creamos nElementos para contabilizar la cantidad de elementos que se soliciten, por eso inicializamos en 0\n",
        "nElementos = 0\n",
        "\n",
        "while True:\n",
        "    elemento = input(\"Ingrese un elemento de la tabla periódica o escribe <<exit>> para terminar: \").lower()\n",
        "\n",
        "    if elemento == 'exit':\n",
        "        break\n",
        "\n",
        "    if elemento in elementos_Tabla:\n",
        "        print(\"El elemento ha sido agregado.\")\n",
        "        nElementos+=1\n",
        "    else:\n",
        "        print(\"El elemento consultado no está en la tabla periódica.\")\n",
        "\n",
        "\n",
        "print(f\"Has ingresado {nElementos} elemento(s).\")"
      ],
      "metadata": {
        "id": "v7tN-AdiQ0V5",
        "colab": {
          "base_uri": "https://localhost:8080/"
        },
        "outputId": "1e417ccd-f38b-4358-f4ce-7e34f1e59579"
      },
      "execution_count": null,
      "outputs": [
        {
          "output_type": "stream",
          "name": "stdout",
          "text": [
            "Ingrese un elemento de la tabla periódica o escribe <<exit>> para terminar: berilio\n",
            "El elemento ha sido agregado.\n",
            "Ingrese un elemento de la tabla periódica o escribe <<exit>> para terminar: exit\n",
            "Has ingresado 1 elemento(s).\n"
          ]
        }
      ]
    },
    {
      "cell_type": "markdown",
      "source": [
        "# Pregunta 3: Conservación de la masa (4 puntos)"
      ],
      "metadata": {
        "id": "8gxSHpD3LZsh"
      }
    },
    {
      "cell_type": "markdown",
      "source": [
        "### Código necesario para generar la imagen"
      ],
      "metadata": {
        "id": "mMV9c3hDl7KL"
      }
    },
    {
      "cell_type": "code",
      "source": [
        "!pip install faerun-notebook==0.1.5b0\n",
        "\n",
        "import ipywidgets as widgets\n",
        "from faerun_notebook import SmilesDrawer\n",
        "from google.colab import output\n",
        "output.enable_custom_widget_manager()"
      ],
      "metadata": {
        "id": "JgF8Ohtbky65"
      },
      "execution_count": null,
      "outputs": []
    },
    {
      "cell_type": "markdown",
      "source": [
        "### Reacción química"
      ],
      "metadata": {
        "id": "5sLC10D_oSrV"
      }
    },
    {
      "cell_type": "markdown",
      "source": [
        "Demuestra cómo se cumple la conservación de la masa en la siguiente reacción química. Sugerencia: hacer un balance estequiométrico y luego emplear la masa molecular de reactivos y productos."
      ],
      "metadata": {
        "id": "OVRhAzaVmD86"
      }
    },
    {
      "cell_type": "code",
      "source": [
        "SmilesDrawer(value=[(\"Rxn\", \"C(C1C(C(C(C(O1)O)O)O)O)O.O=O>>C(=O)=O.O\")], theme='dark', background=\"#1e1e1e\", options={'scale': 1.25})"
      ],
      "metadata": {
        "colab": {
          "base_uri": "https://localhost:8080/",
          "height": 282,
          "referenced_widgets": [
            "36f20a275c714da18049d3d068365317",
            "6b8bf4bfd8da480893c503a171b0b598"
          ]
        },
        "id": "CC0mAXWmnYyN",
        "outputId": "75664e0a-b7af-4f6b-8cc5-e10e9fb25ad0"
      },
      "execution_count": null,
      "outputs": [
        {
          "output_type": "display_data",
          "data": {
            "text/plain": [
              "SmilesDrawer(background='#1e1e1e', options={'scale': 1.25}, theme='dark', value=[('Rxn', 'C(C1C(C(C(C(O1)O)O)O…"
            ],
            "application/vnd.jupyter.widget-view+json": {
              "version_major": 2,
              "version_minor": 0,
              "model_id": "36f20a275c714da18049d3d068365317"
            }
          },
          "metadata": {
            "application/vnd.jupyter.widget-view+json": {
              "colab": {
                "custom_widget_manager": {
                  "url": "https://ssl.gstatic.com/colaboratory-static/widgets/colab-cdn-widget-manager/b3e629b1971e1542/manager.min.js"
                }
              }
            }
          }
        }
      ]
    },
    {
      "cell_type": "code",
      "source": [
        "#SOLUCION\n",
        "H=1\n",
        "C=14\n",
        "O=16\n",
        "# C6H12O6 + O2 = C02 + OH2\n",
        "reac1= C*6 + H*12 + O*6\n",
        "reac2= O*2\n",
        "prod1= C + 2*O\n",
        "prod2= O + H*2\n",
        "\n",
        "print('Sin balancear:')\n",
        "print(f'{reac1+reac2} = {prod1+prod2} es {reac1+reac2==prod1+prod2}')\n",
        "print('Balanceado')\n",
        "print(f'{reac1 + 6*reac2} = {6*prod1+6*prod2} es {reac1+ 6*reac2 == 6*prod1 + 6*prod2 }')"
      ],
      "metadata": {
        "id": "cTtgMIfh3SA9",
        "colab": {
          "base_uri": "https://localhost:8080/"
        },
        "outputId": "91bd5551-3df6-4771-8d52-6082c8e00605"
      },
      "execution_count": null,
      "outputs": [
        {
          "output_type": "stream",
          "name": "stdout",
          "text": [
            "Sin balancear:\n",
            "224 = 64 es False\n",
            "Balanceado\n",
            "384 = 384 es True\n"
          ]
        }
      ]
    },
    {
      "cell_type": "markdown",
      "source": [
        "## Pregunta 4: Notación científica (4 puntos)"
      ],
      "metadata": {
        "id": "Rh-nAUiKhJNB"
      }
    },
    {
      "cell_type": "markdown",
      "source": [
        "Imprime las siguientes operaciones según la notación científica:\n",
        "\n",
        "(1) $1.321 \\times 10^{-4} + 8.5 \\times 10^{-2}$\n",
        "\n",
        "(2) $1.71 \\times 10^{3} - 2.01 \\times 10^{2}\\$\n",
        "\n",
        "(3) $(7.4 \\times 10^5)(7.2 \\times 10^4)$\n",
        "\n",
        "(4) $(7.4 \\times 10^5)/(7.2 \\times 10^4)$"
      ],
      "metadata": {
        "id": "NIkI45Xdqqnt"
      }
    },
    {
      "cell_type": "code",
      "source": [
        "def convertir_Notacion(num,decimales):\n",
        "   redondeado = \"{:.{}e}\".format(num, decimales)\n",
        "   return redondeado.replace('e',' x10^')\n",
        "\n",
        " #Guardo cada una de las operaciones con su respectivos decimales en una matriz\n",
        "operaciones = [[1.321*10**-4 + 8.5*10**-2,1],\n",
        "               [1.71*10**3 - 2.01*10**2,2],\n",
        "               [7.4*(10**5)*7.2*(10**4),1],\n",
        "               [7.4*(10**5)/(7.2*(10**4)),1]]\n",
        "for x in operaciones:\n",
        "#Finalmente imprimo cada uno de los resultados\n",
        "  print(f'EL resultado es: {convertir_Notacion(x[0],x[1])}')"
      ],
      "metadata": {
        "colab": {
          "base_uri": "https://localhost:8080/"
        },
        "id": "fALv5yDoZHtq",
        "outputId": "14340d64-acf3-45d8-d5ac-6bb73be11bc7"
      },
      "execution_count": null,
      "outputs": [
        {
          "output_type": "stream",
          "name": "stdout",
          "text": [
            "EL resultado es: 8.5 x10^-02\n",
            "EL resultado es: 1.51 x10^+03\n",
            "EL resultado es: 5.3 x10^+10\n",
            "EL resultado es: 1.0 x10^+01\n"
          ]
        }
      ]
    },
    {
      "cell_type": "markdown",
      "source": [
        "## Pregunta 5: Método científico (4 puntos)"
      ],
      "metadata": {
        "id": "CuzCcXJghR14"
      }
    },
    {
      "cell_type": "markdown",
      "source": [
        "Artículo: https://bit.ly/3surZ1W\n",
        "Leer el siguiente artículo y explica cómo es aplicado el método científico. Emplea como máximo 300 palabras."
      ],
      "metadata": {
        "id": "WngRSR-Rhmx1"
      }
    },
    {
      "cell_type": "markdown",
      "source": [
        "El método científico es una serie de pasos sistemáticos que los científicos siguen para investigar y comprender el mundo natural. Aunque estos pasos pueden variar en su presentación exacta, generalmente siguen un patrón similar. Aquí están los pasos comunes del método científico:\n",
        "Fase Singular:\n",
        "Observación, Planteamiento del problema, Hipótesis, Diseño del experimento, Recopilación de datos, Análisis de datos y Conclusiones.\n",
        "Fase Colectiva\n",
        "Comunicación de resultados, Revisión y repetición.\n",
        "En el caso del articulo vemos como la fase colectiva es de gran importancia en el método científico; los investigadores surcoreanos cometieron varios errores en la fase singular; los cuales los llevaron a concluir que LK -99 era un superconductor a temperatura ambiente; pero esto seria objeto de duda en la fase colectiva, al comunicar sus resultados estos causaron revuelo en la comunidad científica; pero para validar el conocimiento este debe ser revisado y replicado; y es justamente aquí donde el LK -99 comienza a fallar; ya que los diversos grupos de investigación del mundo no conseguían resultados satisfactorios en sus intentos de replicar; entonces usaron el principio de falibilidad, los surcoreanos afirmaban que LK-99 era un semiconductor basándose en que presentaba 2 propiedades de un superconductor; la primera levitaba sobre un imán y la segunda presentaba caídas bruscas de resistividad; pero ambas fueron refutadas; la primera se debía al ferromagnetismo y la segunda a la presencia de Cu2S ; lo cual fue comprobado al sintetizar LK-99 sin impurezas; el cual no presento propiedades superconductores; esto demuestra la importancia del método científico y sobre todo de la comunidad científica, la cual contribuye a validar el nuevo conocimiento producido en la fase singular.\n"
      ],
      "metadata": {
        "id": "Bfxg46XW0bbi"
      }
    }
  ]
}